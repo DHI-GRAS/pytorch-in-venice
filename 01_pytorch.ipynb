{
 "cells": [
  {
   "cell_type": "code",
   "execution_count": null,
   "metadata": {},
   "outputs": [],
   "source": [
    "import torch\n",
    "import numpy as  np\n",
    "import matplotlib.pyplot as plt\n",
    "from tqdm import tqdm_notebook as tqdm"
   ]
  },
  {
   "cell_type": "markdown",
   "metadata": {},
   "source": [
    "# PyTorch in Venice\n",
    "\n",
    "*most of this talk is stolen from [Stefan Sotte](https://github.com/sotte/pytorch_tutorial)*\n",
    "\n",
    "\n",
    "## Outline\n",
    "\n",
    "1. PyTorch Basics\n",
    "\n",
    "    1.1. 1D Waves in PyTorch\n",
    "    \n",
    "    1.2. Example Networks\n",
    "\n",
    "\n",
    "2. Predicting Storm Surge in Venice\n",
    "\n",
    "    2.1. Datasets\n",
    "    \n",
    "    2.2. Dataloaders\n",
    "    \n",
    "    2.3. Network Models\n",
    "\n",
    "# 1. PyTorch Basics\n",
    "\n",
    "It is super easy to install (including CUDA!)\n",
    "\n",
    "    conda install pytorch -c pytorch\n",
    "\n",
    "### What is it?\n",
    "\n",
    "* A Deep Learing Library similar to Tensorflow\n",
    "* Numpy on the GPU"
   ]
  },
  {
   "cell_type": "code",
   "execution_count": null,
   "metadata": {},
   "outputs": [],
   "source": [
    "import tensorflow as tf\n",
    "\n",
    "x = tf.random_uniform(shape=[5, 5])\n",
    "y = tf.random_uniform(shape=[5, 5])\n",
    "s = x + y\n",
    "s"
   ]
  },
  {
   "cell_type": "code",
   "execution_count": null,
   "metadata": {},
   "outputs": [],
   "source": [
    "with tf.Session() as sess:\n",
    "    s_ = sess.run(s)\n",
    "s_"
   ]
  },
  {
   "cell_type": "markdown",
   "metadata": {},
   "source": [
    "### Dynamic Computational Graph\n",
    "![graph](dynamic_graph.gif)"
   ]
  },
  {
   "cell_type": "code",
   "execution_count": null,
   "metadata": {},
   "outputs": [],
   "source": [
    "x = torch.rand(5, 5)\n",
    "y = torch.rand(5, 5)\n",
    "x + y"
   ]
  },
  {
   "cell_type": "markdown",
   "metadata": {},
   "source": [
    "## 1.2. 1D waves in PyTorch\n",
    "\n",
    "Use it like Numpy!"
   ]
  },
  {
   "cell_type": "code",
   "execution_count": null,
   "metadata": {},
   "outputs": [],
   "source": [
    "x = torch.arange(0., 10., 0.1)\n",
    "y = torch.sin(x)\n",
    "\n",
    "plt.plot(x.numpy(), y.numpy())\n",
    "plt.show()"
   ]
  },
  {
   "cell_type": "code",
   "execution_count": null,
   "metadata": {},
   "outputs": [],
   "source": [
    "def step_1dwave(eta, vel, dt, dx, g, H):\n",
    "    vel[0] += dt * ( -g * (eta[1] - eta[-1]) / (2 * dx))\n",
    "    eta[0] += dt * ( -H * (vel[1] - vel[-1]) / (2 * dx))\n",
    "    vel[-1] += dt * ( -g * (eta[0] - eta[-2]) / (2 * dx))\n",
    "    eta[-1] += dt * ( -H * (vel[0] - vel[-2]) / (2 * dx))\n",
    "\n",
    "    for j in range(1, vel.size(0)-1):\n",
    "        vel[j] += dt * ( -g * (eta[j+1] - eta[j-1]) / (2 * dx))\n",
    "        eta[j] += dt * ( -H * (vel[j+1] - vel[j-1]) / (2 * dx))\n",
    "    return eta, vel\n",
    "\n",
    "\n",
    "def simulate_1dwave(gpts, width, steps):\n",
    "    g = 9.81\n",
    "    H = 1.\n",
    "    L = width\n",
    "    x = torch.linspace(0., width, gpts)\n",
    "    dx = x[1] - x[0]\n",
    "\n",
    "    vel = torch.zeros(gpts, dtype=torch.float)\n",
    "    eta = torch.sin(2*np.pi*x/L)\n",
    "    eta = torch.exp(-(50-x)**2/10**2)\n",
    "    \n",
    "    ETA = torch.zeros((steps, gpts))\n",
    "    VEL = torch.zeros_like(ETA)\n",
    "    for i in tqdm(range(steps)):\n",
    "        eta, vel = step_1dwave(eta, vel, dt, dx, g, H)\n",
    "        ETA[i] = eta\n",
    "        VEL[i] = vel\n",
    "    return ETA.numpy(), VEL.numpy()"
   ]
  },
  {
   "cell_type": "code",
   "execution_count": null,
   "metadata": {},
   "outputs": [],
   "source": [
    "gpts = 200\n",
    "width = 200.\n",
    "steps = 200\n",
    "dt = 0.2\n",
    "\n",
    "ETA, VEL = simulate_1dwave(gpts, width, steps)"
   ]
  },
  {
   "cell_type": "code",
   "execution_count": null,
   "metadata": {},
   "outputs": [],
   "source": [
    "from matplotlib import animation, rc\n",
    "from IPython.display import HTML\n",
    "\n",
    "def animate_line(lines):\n",
    "    # First set up the figure, the axis, and the plot element we want to animate\n",
    "    fig, ax = plt.subplots()\n",
    "\n",
    "    ax.set_xlim(( 0, lines.shape[1]))\n",
    "    ax.set_ylim((lines.min()-0.1, lines.max()+1.0))\n",
    "\n",
    "    line, = ax.plot([], [], lw=2)\n",
    "\n",
    "    # initialization function: plot the background of each frame\n",
    "    def init():\n",
    "        line.set_data([], [])\n",
    "        return (line,)\n",
    "\n",
    "    # animation function. This is called sequentially\n",
    "    def animate(i):\n",
    "        x = np.arange(lines.shape[1])\n",
    "        line.set_data(x, lines[i])\n",
    "        return (line,)\n",
    "\n",
    "    # call the animator. blit=True means only re-draw the parts that have changed.\n",
    "    anim = animation.FuncAnimation(fig, animate, init_func=init,\n",
    "                                   frames=len(lines), interval=20, blit=True)\n",
    "    return anim"
   ]
  },
  {
   "cell_type": "code",
   "execution_count": null,
   "metadata": {},
   "outputs": [],
   "source": [
    "anim = animate_line(ETA)\n",
    "HTML(anim.to_html5_video())"
   ]
  },
  {
   "cell_type": "markdown",
   "metadata": {},
   "source": [
    "### Utilize the GPU"
   ]
  },
  {
   "cell_type": "code",
   "execution_count": null,
   "metadata": {},
   "outputs": [],
   "source": [
    "device = torch.device(\"cuda:0\" if torch.cuda.is_available() else \"cpu\")\n",
    "device"
   ]
  },
  {
   "cell_type": "code",
   "execution_count": null,
   "metadata": {},
   "outputs": [],
   "source": [
    "x = torch.rand(5, 5).to(device)\n",
    "y = torch.rand(5, 5).to(device)\n",
    "s = x + y\n",
    "s.to('cpu')"
   ]
  },
  {
   "cell_type": "markdown",
   "metadata": {},
   "source": [
    "## 1.2. Neural Networks"
   ]
  },
  {
   "cell_type": "code",
   "execution_count": null,
   "metadata": {},
   "outputs": [],
   "source": [
    "import torch\n",
    "import torch.nn as nn\n",
    "import torch.nn.functional as F\n",
    "\n",
    "from collections import OrderedDict\n",
    "\n",
    "# Simple sequential model\n",
    "layers = OrderedDict([\n",
    "    ('conv1', nn.Conv2d(in_channels=1, out_channels=20, kernel_size=5)),\n",
    "    ('relu1', nn.ReLU()),\n",
    "    ('conv2', nn.Conv2d(20,64,5)),\n",
    "    ('relu2', nn.ReLU())\n",
    "])\n",
    "model = nn.Sequential(layers)\n",
    "model"
   ]
  },
  {
   "cell_type": "code",
   "execution_count": null,
   "metadata": {},
   "outputs": [],
   "source": [
    "class Net(nn.Module):\n",
    "    def __init__(self):\n",
    "        super(Net, self).__init__()\n",
    "        self.conv1 = nn.Conv2d(in_channels=3, out_channels=6, kernel_size=5)\n",
    "        self.pool = nn.MaxPool2d(2, 2)\n",
    "        self.conv2 = nn.Conv2d(in_channels=6, out_channels=16, kernel_size=5)\n",
    "        self.fc1 = nn.Linear(in_features=16 * 5 * 5, out_features=120)\n",
    "        self.fc2 = nn.Linear(120, 84)\n",
    "        self.fc3 = nn.Linear(84, 10)\n",
    "\n",
    "    def forward(self, x):\n",
    "        x = self.pool(F.relu(self.conv1(x)))\n",
    "        x = self.pool(F.relu(self.conv2(x)))\n",
    "        x = x.view(-1, 16 * 5 * 5)\n",
    "        x = F.relu(self.fc1(x))\n",
    "        x = F.relu(self.fc2(x))\n",
    "        x = self.fc3(x)\n",
    "        # you could write ifs / loops here !\n",
    "        return x\n",
    "\n",
    "\n",
    "net = Net()\n",
    "net"
   ]
  },
  {
   "cell_type": "markdown",
   "metadata": {},
   "source": [
    "### Random number generator in the forward pass!"
   ]
  },
  {
   "cell_type": "code",
   "execution_count": null,
   "metadata": {},
   "outputs": [],
   "source": [
    "class Seq2SeqModel(nn.Module):\n",
    "    def __init__(self, p_teacher_forcing: float):\n",
    "        self.p_teacher_forcing = p_teacher_forcing\n",
    "        # ...\n",
    "\n",
    "    def forward(self, X, y):\n",
    "        # ... some calculation\n",
    "        current_word = torch.zeros(...)\n",
    "        result = []\n",
    "        for i in range(self.sentence_length):\n",
    "            # ... some calculation with current_word\n",
    "            result.append(output)\n",
    "            current_word = torch.argmax(output)\n",
    "\n",
    "            # teacher forcing\n",
    "            if self.p_teacher_forcing > random.random():\n",
    "                current_word = y[i]\n",
    "\n",
    "        return torch.stack(result)"
   ]
  }
 ],
 "metadata": {
  "kernelspec": {
   "display_name": "Python 3",
   "language": "python",
   "name": "python3"
  },
  "language_info": {
   "codemirror_mode": {
    "name": "ipython",
    "version": 3
   },
   "file_extension": ".py",
   "mimetype": "text/x-python",
   "name": "python",
   "nbconvert_exporter": "python",
   "pygments_lexer": "ipython3",
   "version": "3.7.0"
  }
 },
 "nbformat": 4,
 "nbformat_minor": 2
}
